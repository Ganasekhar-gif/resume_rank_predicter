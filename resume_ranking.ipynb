{
 "cells": [
  {
   "cell_type": "code",
   "execution_count": 3,
   "id": "bf479994-4c97-4bce-95d4-caced02e2de8",
   "metadata": {},
   "outputs": [
    {
     "name": "stdout",
     "output_type": "stream",
     "text": [
      "Collecting PyPDF2\n",
      "  Downloading pypdf2-3.0.1-py3-none-any.whl.metadata (6.8 kB)\n",
      "Downloading pypdf2-3.0.1-py3-none-any.whl (232 kB)\n",
      "   ---------------------------------------- 0.0/232.6 kB ? eta -:--:--\n",
      "   ---------------------------------------- 0.0/232.6 kB ? eta -:--:--\n",
      "   - -------------------------------------- 10.2/232.6 kB ? eta -:--:--\n",
      "   ----- --------------------------------- 30.7/232.6 kB 445.2 kB/s eta 0:00:01\n",
      "   ---------- ---------------------------- 61.4/232.6 kB 469.7 kB/s eta 0:00:01\n",
      "   ----------------------- -------------- 143.4/232.6 kB 853.3 kB/s eta 0:00:01\n",
      "   ---------------------------------------- 232.6/232.6 kB 1.1 MB/s eta 0:00:00\n",
      "Installing collected packages: PyPDF2\n",
      "Successfully installed PyPDF2-3.0.1\n"
     ]
    }
   ],
   "source": [
    "!pip install PyPDF2"
   ]
  },
  {
   "cell_type": "code",
   "execution_count": 29,
   "id": "8bddd28f-ed62-41f1-8fea-02d968b9a15c",
   "metadata": {},
   "outputs": [],
   "source": [
    "import streamlit as st\n",
    "from PyPDF2 import PdfReader\n",
    "import pandas as pd\n",
    "from sklearn.feature_extraction.text import TfidfVectorizer\n",
    "from sklearn.metrics.pairwise import cosine_similarity\n",
    "\n",
    "# Function to extract text from a PDF file\n",
    "def extract_text_from_pdf(file):\n",
    "    pdf = PdfReader(file)\n",
    "    text = \"\"\n",
    "    for page in pdf.pages:\n",
    "        if page.extract_text():\n",
    "            text += page.extract_text() + \" \"\n",
    "    return text.strip()\n",
    "\n",
    "# Function to rank resumes based on job description\n",
    "def rank_resumes(job_description, resumes):\n",
    "    documents = [job_description] + resumes\n",
    "    vectorizer = TfidfVectorizer().fit_transform(documents)\n",
    "    vectors = vectorizer.toarray()\n",
    "\n",
    "    # Calculate cosine similarity\n",
    "    job_description_vector = vectors[0]\n",
    "    resume_vectors = vectors[1:]\n",
    "    cosine_similarities = cosine_similarity([job_description_vector], resume_vectors).flatten()\n",
    "    \n",
    "    return cosine_similarities\n",
    "\n",
    "# Streamlit UI\n",
    "st.title(\"📄 AI Resume Screening & Ranking System\")\n",
    "\n",
    "# Job description input\n",
    "st.header(\"📝 Job Description\")\n",
    "job_description = st.text_area(\"Enter the job description\", height=150)\n",
    "\n",
    "# File uploader\n",
    "st.header(\"📂 Upload Resumes (PDF)\")\n",
    "uploaded_files = st.file_uploader(\"Upload PDF files\", type=[\"pdf\"], accept_multiple_files=True)\n",
    "\n",
    "# Process resumes and rank them\n",
    "if uploaded_files and job_description:\n",
    "    st.header(\"📊 Ranked Resumes\")\n",
    "    \n",
    "    resumes = []\n",
    "    file_names = []\n",
    "    \n",
    "    for file in uploaded_files:\n",
    "        text = extract_text_from_pdf(file)\n",
    "        resumes.append(text)\n",
    "        file_names.append(file.name)\n",
    "\n",
    "    # Rank resumes\n",
    "    scores = rank_resumes(job_description, resumes)\n",
    "\n",
    "    # Create results DataFrame\n",
    "    results = pd.DataFrame({\"Resume\": file_names, \"Score\": scores})\n",
    "    results = results.sort_values(by=\"Score\", ascending=False)\n",
    "\n",
    "    # Display results\n",
    "    st.dataframe(results)\n"
   ]
  },
  {
   "cell_type": "code",
   "execution_count": null,
   "id": "ec7dc581-a4b4-4600-a59b-4ab103440dd9",
   "metadata": {},
   "outputs": [],
   "source": []
  }
 ],
 "metadata": {
  "kernelspec": {
   "display_name": "Python 3 (ipykernel)",
   "language": "python",
   "name": "python3"
  },
  "language_info": {
   "codemirror_mode": {
    "name": "ipython",
    "version": 3
   },
   "file_extension": ".py",
   "mimetype": "text/x-python",
   "name": "python",
   "nbconvert_exporter": "python",
   "pygments_lexer": "ipython3",
   "version": "3.11.7"
  }
 },
 "nbformat": 4,
 "nbformat_minor": 5
}
